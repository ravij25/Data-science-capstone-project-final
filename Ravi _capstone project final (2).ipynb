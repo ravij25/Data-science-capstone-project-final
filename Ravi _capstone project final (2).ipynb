{
 "cells": [
  {
   "cell_type": "code",
   "execution_count": 38,
   "metadata": {},
   "outputs": [],
   "source": [
    "#Car accident servity project\n",
    "#importing ibraries\n",
    "import pandas as  pd\n",
    "import numpy as np\n"
   ]
  },
  {
   "cell_type": "code",
   "execution_count": 39,
   "metadata": {},
   "outputs": [],
   "source": [
    "train_data=pd.read_csv(r\"C:\\Users\\ravij25\\Desktop\\train.csv\")\n",
    "\n",
    "test_data=pd.read_csv(r\"C:\\Users\\ravij25\\Desktop\\test.csv\")"
   ]
  },
  {
   "cell_type": "code",
   "execution_count": 40,
   "metadata": {},
   "outputs": [
    {
     "name": "stdout",
     "output_type": "stream",
     "text": [
      "<class 'pandas.core.frame.DataFrame'>\n",
      "RangeIndex: 10397 entries, 0 to 10396\n",
      "Data columns (total 17 columns):\n",
      " #   Column                                  Non-Null Count  Dtype  \n",
      "---  ------                                  --------------  -----  \n",
      " 0   Collision Reference No.                 10397 non-null  int64  \n",
      " 1   Policing Area                           10054 non-null  object \n",
      " 2   Collision Severity                      10397 non-null  int64  \n",
      " 3   Weekday of Collision                    10397 non-null  object \n",
      " 4   Day of Collision                        10397 non-null  int64  \n",
      " 5   Month of Collision                      10397 non-null  int64  \n",
      " 6   Hour of Collision (24 hour)             10091 non-null  float64\n",
      " 7   Carriageway Type                        10397 non-null  int64  \n",
      " 8   Speed Limit                             10397 non-null  int64  \n",
      " 9   Junction Detail                         10089 non-null  float64\n",
      " 10  Junction Control                        10087 non-null  float64\n",
      " 11  Pedestrian Crossing – Human Control     10066 non-null  float64\n",
      " 12  Pedestrian Crossing – Physical Control  10088 non-null  float64\n",
      " 13  Light Conditions                        10397 non-null  int64  \n",
      " 14  Weather Conditions                      10397 non-null  int64  \n",
      " 15  Road Surface Conditions                 10080 non-null  float64\n",
      " 16  Special Conditions at Site              10095 non-null  float64\n",
      "dtypes: float64(7), int64(8), object(2)\n",
      "memory usage: 1.3+ MB\n",
      "<class 'pandas.core.frame.DataFrame'>\n",
      "RangeIndex: 1833 entries, 0 to 1832\n",
      "Data columns (total 16 columns):\n",
      " #   Column                                  Non-Null Count  Dtype  \n",
      "---  ------                                  --------------  -----  \n",
      " 0   Collision Reference No.                 1833 non-null   int64  \n",
      " 1   Policing Area                           1788 non-null   object \n",
      " 2   Weekday of Collision                    1833 non-null   object \n",
      " 3   Day of Collision                        1833 non-null   int64  \n",
      " 4   Month of Collision                      1833 non-null   int64  \n",
      " 5   Hour of Collision (24 hour)             1800 non-null   float64\n",
      " 6   Carriageway Type                        1833 non-null   int64  \n",
      " 7   Speed Limit                             1833 non-null   int64  \n",
      " 8   Junction Detail                         1796 non-null   float64\n",
      " 9   Junction Control                        1779 non-null   float64\n",
      " 10  Pedestrian Crossing – Human Control     1779 non-null   float64\n",
      " 11  Pedestrian Crossing – Physical Control  1766 non-null   float64\n",
      " 12  Light Conditions                        1833 non-null   int64  \n",
      " 13  Weather Conditions                      1833 non-null   int64  \n",
      " 14  Road Surface Conditions                 1774 non-null   float64\n",
      " 15  Special Conditions at Site              1779 non-null   float64\n",
      "dtypes: float64(7), int64(7), object(2)\n",
      "memory usage: 229.2+ KB\n"
     ]
    }
   ],
   "source": [
    "train_data.info()\n",
    "test_data.info()"
   ]
  },
  {
   "cell_type": "code",
   "execution_count": null,
   "metadata": {},
   "outputs": [],
   "source": []
  },
  {
   "cell_type": "code",
   "execution_count": 41,
   "metadata": {},
   "outputs": [
    {
     "data": {
      "text/html": [
       "<div>\n",
       "<style scoped>\n",
       "    .dataframe tbody tr th:only-of-type {\n",
       "        vertical-align: middle;\n",
       "    }\n",
       "\n",
       "    .dataframe tbody tr th {\n",
       "        vertical-align: top;\n",
       "    }\n",
       "\n",
       "    .dataframe thead th {\n",
       "        text-align: right;\n",
       "    }\n",
       "</style>\n",
       "<table border=\"1\" class=\"dataframe\">\n",
       "  <thead>\n",
       "    <tr style=\"text-align: right;\">\n",
       "      <th></th>\n",
       "      <th>Collision Reference No.</th>\n",
       "      <th>Policing Area</th>\n",
       "      <th>Collision Severity</th>\n",
       "      <th>Weekday of Collision</th>\n",
       "      <th>Day of Collision</th>\n",
       "      <th>Month of Collision</th>\n",
       "      <th>Hour of Collision (24 hour)</th>\n",
       "      <th>Carriageway Type</th>\n",
       "      <th>Speed Limit</th>\n",
       "      <th>Junction Detail</th>\n",
       "      <th>Junction Control</th>\n",
       "      <th>Pedestrian Crossing – Human Control</th>\n",
       "      <th>Pedestrian Crossing – Physical Control</th>\n",
       "      <th>Light Conditions</th>\n",
       "      <th>Weather Conditions</th>\n",
       "      <th>Road Surface Conditions</th>\n",
       "      <th>Special Conditions at Site</th>\n",
       "    </tr>\n",
       "  </thead>\n",
       "  <tbody>\n",
       "    <tr>\n",
       "      <th>0</th>\n",
       "      <td>3518</td>\n",
       "      <td>CREA</td>\n",
       "      <td>3</td>\n",
       "      <td>MON</td>\n",
       "      <td>4</td>\n",
       "      <td>8</td>\n",
       "      <td>14.0</td>\n",
       "      <td>13</td>\n",
       "      <td>60</td>\n",
       "      <td>1.0</td>\n",
       "      <td>1.0</td>\n",
       "      <td>1.0</td>\n",
       "      <td>1.0</td>\n",
       "      <td>2</td>\n",
       "      <td>9</td>\n",
       "      <td>9.0</td>\n",
       "      <td>1.0</td>\n",
       "    </tr>\n",
       "    <tr>\n",
       "      <th>1</th>\n",
       "      <td>10557</td>\n",
       "      <td>BELC</td>\n",
       "      <td>3</td>\n",
       "      <td>SAT</td>\n",
       "      <td>8</td>\n",
       "      <td>8</td>\n",
       "      <td>17.0</td>\n",
       "      <td>11</td>\n",
       "      <td>50</td>\n",
       "      <td>12.0</td>\n",
       "      <td>7.0</td>\n",
       "      <td>1.0</td>\n",
       "      <td>1.0</td>\n",
       "      <td>4</td>\n",
       "      <td>3</td>\n",
       "      <td>1.0</td>\n",
       "      <td>1.0</td>\n",
       "    </tr>\n",
       "    <tr>\n",
       "      <th>2</th>\n",
       "      <td>5002</td>\n",
       "      <td>LISB</td>\n",
       "      <td>3</td>\n",
       "      <td>WED</td>\n",
       "      <td>5</td>\n",
       "      <td>11</td>\n",
       "      <td>17.0</td>\n",
       "      <td>1</td>\n",
       "      <td>60</td>\n",
       "      <td>12.0</td>\n",
       "      <td>7.0</td>\n",
       "      <td>1.0</td>\n",
       "      <td>1.0</td>\n",
       "      <td>2</td>\n",
       "      <td>2</td>\n",
       "      <td>2.0</td>\n",
       "      <td>1.0</td>\n",
       "    </tr>\n",
       "    <tr>\n",
       "      <th>3</th>\n",
       "      <td>11714</td>\n",
       "      <td>BELC</td>\n",
       "      <td>3</td>\n",
       "      <td>SUN</td>\n",
       "      <td>18</td>\n",
       "      <td>10</td>\n",
       "      <td>16.0</td>\n",
       "      <td>12</td>\n",
       "      <td>70</td>\n",
       "      <td>6.0</td>\n",
       "      <td>NaN</td>\n",
       "      <td>1.0</td>\n",
       "      <td>1.0</td>\n",
       "      <td>1</td>\n",
       "      <td>3</td>\n",
       "      <td>1.0</td>\n",
       "      <td>1.0</td>\n",
       "    </tr>\n",
       "    <tr>\n",
       "      <th>4</th>\n",
       "      <td>12416</td>\n",
       "      <td>MIDU</td>\n",
       "      <td>3</td>\n",
       "      <td>MON</td>\n",
       "      <td>23</td>\n",
       "      <td>11</td>\n",
       "      <td>9.0</td>\n",
       "      <td>13</td>\n",
       "      <td>60</td>\n",
       "      <td>6.0</td>\n",
       "      <td>7.0</td>\n",
       "      <td>1.0</td>\n",
       "      <td>1.0</td>\n",
       "      <td>2</td>\n",
       "      <td>3</td>\n",
       "      <td>1.0</td>\n",
       "      <td>1.0</td>\n",
       "    </tr>\n",
       "    <tr>\n",
       "      <th>5</th>\n",
       "      <td>558</td>\n",
       "      <td>FOYL</td>\n",
       "      <td>2</td>\n",
       "      <td>MON</td>\n",
       "      <td>3</td>\n",
       "      <td>2</td>\n",
       "      <td>12.0</td>\n",
       "      <td>13</td>\n",
       "      <td>60</td>\n",
       "      <td>1.0</td>\n",
       "      <td>1.0</td>\n",
       "      <td>1.0</td>\n",
       "      <td>1.0</td>\n",
       "      <td>2</td>\n",
       "      <td>2</td>\n",
       "      <td>2.0</td>\n",
       "      <td>1.0</td>\n",
       "    </tr>\n",
       "    <tr>\n",
       "      <th>6</th>\n",
       "      <td>7372</td>\n",
       "      <td>ANTN</td>\n",
       "      <td>2</td>\n",
       "      <td>MON</td>\n",
       "      <td>26</td>\n",
       "      <td>1</td>\n",
       "      <td>16.0</td>\n",
       "      <td>13</td>\n",
       "      <td>40</td>\n",
       "      <td>6.0</td>\n",
       "      <td>7.0</td>\n",
       "      <td>1.0</td>\n",
       "      <td>1.0</td>\n",
       "      <td>1</td>\n",
       "      <td>1</td>\n",
       "      <td>2.0</td>\n",
       "      <td>5.0</td>\n",
       "    </tr>\n",
       "    <tr>\n",
       "      <th>7</th>\n",
       "      <td>11825</td>\n",
       "      <td>ARBC</td>\n",
       "      <td>3</td>\n",
       "      <td>SAT</td>\n",
       "      <td>24</td>\n",
       "      <td>10</td>\n",
       "      <td>11.0</td>\n",
       "      <td>13</td>\n",
       "      <td>60</td>\n",
       "      <td>10.0</td>\n",
       "      <td>7.0</td>\n",
       "      <td>1.0</td>\n",
       "      <td>1.0</td>\n",
       "      <td>1</td>\n",
       "      <td>10</td>\n",
       "      <td>2.0</td>\n",
       "      <td>NaN</td>\n",
       "    </tr>\n",
       "    <tr>\n",
       "      <th>8</th>\n",
       "      <td>7656</td>\n",
       "      <td>ARBC</td>\n",
       "      <td>3</td>\n",
       "      <td>TUE</td>\n",
       "      <td>10</td>\n",
       "      <td>2</td>\n",
       "      <td>15.0</td>\n",
       "      <td>1</td>\n",
       "      <td>30</td>\n",
       "      <td>NaN</td>\n",
       "      <td>1.0</td>\n",
       "      <td>1.0</td>\n",
       "      <td>1.0</td>\n",
       "      <td>1</td>\n",
       "      <td>3</td>\n",
       "      <td>1.0</td>\n",
       "      <td>1.0</td>\n",
       "    </tr>\n",
       "    <tr>\n",
       "      <th>9</th>\n",
       "      <td>5582</td>\n",
       "      <td>NABB</td>\n",
       "      <td>3</td>\n",
       "      <td>FRI</td>\n",
       "      <td>5</td>\n",
       "      <td>12</td>\n",
       "      <td>8.0</td>\n",
       "      <td>13</td>\n",
       "      <td>30</td>\n",
       "      <td>1.0</td>\n",
       "      <td>1.0</td>\n",
       "      <td>1.0</td>\n",
       "      <td>2.0</td>\n",
       "      <td>7</td>\n",
       "      <td>10</td>\n",
       "      <td>1.0</td>\n",
       "      <td>1.0</td>\n",
       "    </tr>\n",
       "  </tbody>\n",
       "</table>\n",
       "</div>"
      ],
      "text/plain": [
       "   Collision Reference No. Policing Area  Collision Severity  \\\n",
       "0                     3518          CREA                   3   \n",
       "1                    10557          BELC                   3   \n",
       "2                     5002          LISB                   3   \n",
       "3                    11714          BELC                   3   \n",
       "4                    12416          MIDU                   3   \n",
       "5                      558          FOYL                   2   \n",
       "6                     7372          ANTN                   2   \n",
       "7                    11825          ARBC                   3   \n",
       "8                     7656          ARBC                   3   \n",
       "9                     5582          NABB                   3   \n",
       "\n",
       "  Weekday of Collision  Day of Collision  Month of Collision  \\\n",
       "0                  MON                 4                   8   \n",
       "1                  SAT                 8                   8   \n",
       "2                  WED                 5                  11   \n",
       "3                  SUN                18                  10   \n",
       "4                  MON                23                  11   \n",
       "5                  MON                 3                   2   \n",
       "6                  MON                26                   1   \n",
       "7                  SAT                24                  10   \n",
       "8                  TUE                10                   2   \n",
       "9                  FRI                 5                  12   \n",
       "\n",
       "   Hour of Collision (24 hour)  Carriageway Type  Speed Limit  \\\n",
       "0                         14.0                13           60   \n",
       "1                         17.0                11           50   \n",
       "2                         17.0                 1           60   \n",
       "3                         16.0                12           70   \n",
       "4                          9.0                13           60   \n",
       "5                         12.0                13           60   \n",
       "6                         16.0                13           40   \n",
       "7                         11.0                13           60   \n",
       "8                         15.0                 1           30   \n",
       "9                          8.0                13           30   \n",
       "\n",
       "   Junction Detail  Junction Control  Pedestrian Crossing – Human Control  \\\n",
       "0              1.0               1.0                                  1.0   \n",
       "1             12.0               7.0                                  1.0   \n",
       "2             12.0               7.0                                  1.0   \n",
       "3              6.0               NaN                                  1.0   \n",
       "4              6.0               7.0                                  1.0   \n",
       "5              1.0               1.0                                  1.0   \n",
       "6              6.0               7.0                                  1.0   \n",
       "7             10.0               7.0                                  1.0   \n",
       "8              NaN               1.0                                  1.0   \n",
       "9              1.0               1.0                                  1.0   \n",
       "\n",
       "   Pedestrian Crossing – Physical Control  Light Conditions  \\\n",
       "0                                     1.0                 2   \n",
       "1                                     1.0                 4   \n",
       "2                                     1.0                 2   \n",
       "3                                     1.0                 1   \n",
       "4                                     1.0                 2   \n",
       "5                                     1.0                 2   \n",
       "6                                     1.0                 1   \n",
       "7                                     1.0                 1   \n",
       "8                                     1.0                 1   \n",
       "9                                     2.0                 7   \n",
       "\n",
       "   Weather Conditions  Road Surface Conditions  Special Conditions at Site  \n",
       "0                   9                      9.0                         1.0  \n",
       "1                   3                      1.0                         1.0  \n",
       "2                   2                      2.0                         1.0  \n",
       "3                   3                      1.0                         1.0  \n",
       "4                   3                      1.0                         1.0  \n",
       "5                   2                      2.0                         1.0  \n",
       "6                   1                      2.0                         5.0  \n",
       "7                  10                      2.0                         NaN  \n",
       "8                   3                      1.0                         1.0  \n",
       "9                  10                      1.0                         1.0  "
      ]
     },
     "execution_count": 41,
     "metadata": {},
     "output_type": "execute_result"
    }
   ],
   "source": [
    "train_data.head(10)"
   ]
  },
  {
   "cell_type": "code",
   "execution_count": 42,
   "metadata": {},
   "outputs": [
    {
     "data": {
      "text/plain": [
       "3    9282\n",
       "2     993\n",
       "1     122\n",
       "Name: Collision Severity, dtype: int64"
      ]
     },
     "execution_count": 42,
     "metadata": {},
     "output_type": "execute_result"
    }
   ],
   "source": [
    "train_data[\"Collision Severity\"].value_counts()"
   ]
  },
  {
   "cell_type": "code",
   "execution_count": null,
   "metadata": {},
   "outputs": [],
   "source": []
  },
  {
   "cell_type": "code",
   "execution_count": 43,
   "metadata": {},
   "outputs": [
    {
     "data": {
      "text/html": [
       "<div>\n",
       "<style scoped>\n",
       "    .dataframe tbody tr th:only-of-type {\n",
       "        vertical-align: middle;\n",
       "    }\n",
       "\n",
       "    .dataframe tbody tr th {\n",
       "        vertical-align: top;\n",
       "    }\n",
       "\n",
       "    .dataframe thead th {\n",
       "        text-align: right;\n",
       "    }\n",
       "</style>\n",
       "<table border=\"1\" class=\"dataframe\">\n",
       "  <thead>\n",
       "    <tr style=\"text-align: right;\">\n",
       "      <th></th>\n",
       "      <th>Collision Reference No.</th>\n",
       "      <th>Policing Area</th>\n",
       "      <th>Weekday of Collision</th>\n",
       "      <th>Day of Collision</th>\n",
       "      <th>Month of Collision</th>\n",
       "      <th>Hour of Collision (24 hour)</th>\n",
       "      <th>Carriageway Type</th>\n",
       "      <th>Speed Limit</th>\n",
       "      <th>Junction Detail</th>\n",
       "      <th>Junction Control</th>\n",
       "      <th>Pedestrian Crossing – Human Control</th>\n",
       "      <th>Pedestrian Crossing – Physical Control</th>\n",
       "      <th>Light Conditions</th>\n",
       "      <th>Weather Conditions</th>\n",
       "      <th>Road Surface Conditions</th>\n",
       "      <th>Special Conditions at Site</th>\n",
       "    </tr>\n",
       "  </thead>\n",
       "  <tbody>\n",
       "    <tr>\n",
       "      <th>0</th>\n",
       "      <td>2</td>\n",
       "      <td>BELW</td>\n",
       "      <td>WED</td>\n",
       "      <td>1</td>\n",
       "      <td>1</td>\n",
       "      <td>0.0</td>\n",
       "      <td>13</td>\n",
       "      <td>30</td>\n",
       "      <td>3.0</td>\n",
       "      <td>7.0</td>\n",
       "      <td>1.0</td>\n",
       "      <td>2.0</td>\n",
       "      <td>5</td>\n",
       "      <td>1</td>\n",
       "      <td>2.0</td>\n",
       "      <td>1.0</td>\n",
       "    </tr>\n",
       "    <tr>\n",
       "      <th>1</th>\n",
       "      <td>18</td>\n",
       "      <td>LARN</td>\n",
       "      <td>WED</td>\n",
       "      <td>1</td>\n",
       "      <td>1</td>\n",
       "      <td>17.0</td>\n",
       "      <td>11</td>\n",
       "      <td>70</td>\n",
       "      <td>10.0</td>\n",
       "      <td>7.0</td>\n",
       "      <td>1.0</td>\n",
       "      <td>1.0</td>\n",
       "      <td>7</td>\n",
       "      <td>1</td>\n",
       "      <td>1.0</td>\n",
       "      <td>1.0</td>\n",
       "    </tr>\n",
       "    <tr>\n",
       "      <th>2</th>\n",
       "      <td>20</td>\n",
       "      <td>FOYL</td>\n",
       "      <td>WED</td>\n",
       "      <td>1</td>\n",
       "      <td>1</td>\n",
       "      <td>22.0</td>\n",
       "      <td>1</td>\n",
       "      <td>30</td>\n",
       "      <td>6.0</td>\n",
       "      <td>3.0</td>\n",
       "      <td>1.0</td>\n",
       "      <td>11.0</td>\n",
       "      <td>7</td>\n",
       "      <td>9</td>\n",
       "      <td>1.0</td>\n",
       "      <td>1.0</td>\n",
       "    </tr>\n",
       "    <tr>\n",
       "      <th>3</th>\n",
       "      <td>26</td>\n",
       "      <td>NaN</td>\n",
       "      <td>THU</td>\n",
       "      <td>2</td>\n",
       "      <td>1</td>\n",
       "      <td>1.0</td>\n",
       "      <td>13</td>\n",
       "      <td>30</td>\n",
       "      <td>12.0</td>\n",
       "      <td>7.0</td>\n",
       "      <td>1.0</td>\n",
       "      <td>1.0</td>\n",
       "      <td>3</td>\n",
       "      <td>10</td>\n",
       "      <td>2.0</td>\n",
       "      <td>1.0</td>\n",
       "    </tr>\n",
       "    <tr>\n",
       "      <th>4</th>\n",
       "      <td>29</td>\n",
       "      <td>FOYL</td>\n",
       "      <td>THU</td>\n",
       "      <td>2</td>\n",
       "      <td>1</td>\n",
       "      <td>14.0</td>\n",
       "      <td>13</td>\n",
       "      <td>40</td>\n",
       "      <td>1.0</td>\n",
       "      <td>1.0</td>\n",
       "      <td>1.0</td>\n",
       "      <td>1.0</td>\n",
       "      <td>1</td>\n",
       "      <td>1</td>\n",
       "      <td>1.0</td>\n",
       "      <td>1.0</td>\n",
       "    </tr>\n",
       "  </tbody>\n",
       "</table>\n",
       "</div>"
      ],
      "text/plain": [
       "   Collision Reference No. Policing Area Weekday of Collision  \\\n",
       "0                        2          BELW                  WED   \n",
       "1                       18          LARN                  WED   \n",
       "2                       20          FOYL                  WED   \n",
       "3                       26           NaN                  THU   \n",
       "4                       29          FOYL                  THU   \n",
       "\n",
       "   Day of Collision  Month of Collision  Hour of Collision (24 hour)  \\\n",
       "0                 1                   1                          0.0   \n",
       "1                 1                   1                         17.0   \n",
       "2                 1                   1                         22.0   \n",
       "3                 2                   1                          1.0   \n",
       "4                 2                   1                         14.0   \n",
       "\n",
       "   Carriageway Type  Speed Limit  Junction Detail  Junction Control  \\\n",
       "0                13           30              3.0               7.0   \n",
       "1                11           70             10.0               7.0   \n",
       "2                 1           30              6.0               3.0   \n",
       "3                13           30             12.0               7.0   \n",
       "4                13           40              1.0               1.0   \n",
       "\n",
       "   Pedestrian Crossing – Human Control  \\\n",
       "0                                  1.0   \n",
       "1                                  1.0   \n",
       "2                                  1.0   \n",
       "3                                  1.0   \n",
       "4                                  1.0   \n",
       "\n",
       "   Pedestrian Crossing – Physical Control  Light Conditions  \\\n",
       "0                                     2.0                 5   \n",
       "1                                     1.0                 7   \n",
       "2                                    11.0                 7   \n",
       "3                                     1.0                 3   \n",
       "4                                     1.0                 1   \n",
       "\n",
       "   Weather Conditions  Road Surface Conditions  Special Conditions at Site  \n",
       "0                   1                      2.0                         1.0  \n",
       "1                   1                      1.0                         1.0  \n",
       "2                   9                      1.0                         1.0  \n",
       "3                  10                      2.0                         1.0  \n",
       "4                   1                      1.0                         1.0  "
      ]
     },
     "execution_count": 43,
     "metadata": {},
     "output_type": "execute_result"
    }
   ],
   "source": [
    "test_data.head(5)"
   ]
  },
  {
   "cell_type": "code",
   "execution_count": 44,
   "metadata": {},
   "outputs": [],
   "source": [
    "import matplotlib.pyplot as plt"
   ]
  },
  {
   "cell_type": "code",
   "execution_count": 45,
   "metadata": {},
   "outputs": [
    {
     "data": {
      "text/plain": [
       "BELC    229\n",
       "DCST     95\n",
       "LISC     93\n",
       "NEMD     78\n",
       "BELS     70\n",
       "ARBC     68\n",
       "ARND     65\n",
       "MIDU     61\n",
       "ANTN     61\n",
       "FERO     56\n",
       "CCGL     56\n",
       "FOYL     56\n",
       "LISB     55\n",
       "BELN     52\n",
       "NEWM     51\n",
       "BELE     47\n",
       "MEAN     46\n",
       "BELW     44\n",
       "CRAI     43\n",
       "NABB     40\n",
       "DOWN     37\n",
       "FERM     34\n",
       "BMEN     32\n",
       "DAST     30\n",
       "NDOW     30\n",
       "ANTR     30\n",
       "COLE     26\n",
       "CREA     26\n",
       "OMAG     22\n",
       "ARDS     22\n",
       "ARMA     20\n",
       "BMON     17\n",
       "STRB     15\n",
       "LIMA     14\n",
       "CFER     13\n",
       "BANB     13\n",
       "MFEL     12\n",
       "MOYL     10\n",
       "LARN     10\n",
       "COOK      9\n",
       "Name: Policing Area, dtype: int64"
      ]
     },
     "execution_count": 45,
     "metadata": {},
     "output_type": "execute_result"
    }
   ],
   "source": [
    "test_data[\"Policing Area\"].value_counts()"
   ]
  },
  {
   "cell_type": "code",
   "execution_count": 46,
   "metadata": {},
   "outputs": [
    {
     "data": {
      "text/plain": [
       "Collision Reference No.                     0\n",
       "Policing Area                             343\n",
       "Collision Severity                          0\n",
       "Weekday of Collision                        0\n",
       "Day of Collision                            0\n",
       "Month of Collision                          0\n",
       "Hour of Collision (24 hour)               306\n",
       "Carriageway Type                            0\n",
       "Speed Limit                                 0\n",
       "Junction Detail                           308\n",
       "Junction Control                          310\n",
       "Pedestrian Crossing – Human Control       331\n",
       "Pedestrian Crossing – Physical Control    309\n",
       "Light Conditions                            0\n",
       "Weather Conditions                          0\n",
       "Road Surface Conditions                   317\n",
       "Special Conditions at Site                302\n",
       "dtype: int64"
      ]
     },
     "execution_count": 46,
     "metadata": {},
     "output_type": "execute_result"
    }
   ],
   "source": [
    "train_data.isnull().sum()"
   ]
  },
  {
   "cell_type": "code",
   "execution_count": 48,
   "metadata": {},
   "outputs": [],
   "source": [
    "#Data engineering to elimnate redundancy\n",
    "#from sklearn.preprocessing import LabelEncoder\n",
    "le = LabelEncoder()\n",
    "\n",
    "# lable encoder for data_train\n",
    "\n",
    "le.fit(train_data['Weekday of Collision'])\n",
    "train_data['Weekday of Collision'] = le.transform(train_data['Weekday of Collision'])\n",
    "le.fit(train_data['Policing Area'].astype(str))\n",
    "train_data['Policing Area'] = le.transform(train_data['Policing Area'].astype(str))"
   ]
  },
  {
   "cell_type": "code",
   "execution_count": 49,
   "metadata": {},
   "outputs": [
    {
     "data": {
      "text/plain": [
       "Collision Reference No.                     0\n",
       "Policing Area                               0\n",
       "Collision Severity                          0\n",
       "Weekday of Collision                        0\n",
       "Day of Collision                            0\n",
       "Month of Collision                          0\n",
       "Hour of Collision (24 hour)               306\n",
       "Carriageway Type                            0\n",
       "Speed Limit                                 0\n",
       "Junction Detail                           308\n",
       "Junction Control                          310\n",
       "Pedestrian Crossing – Human Control       331\n",
       "Pedestrian Crossing – Physical Control    309\n",
       "Light Conditions                            0\n",
       "Weather Conditions                          0\n",
       "Road Surface Conditions                   317\n",
       "Special Conditions at Site                302\n",
       "dtype: int64"
      ]
     },
     "execution_count": 49,
     "metadata": {},
     "output_type": "execute_result"
    }
   ],
   "source": [
    "train_data.isnull().sum()"
   ]
  },
  {
   "cell_type": "code",
   "execution_count": 50,
   "metadata": {},
   "outputs": [],
   "source": [
    "train_data = train_data.fillna(train_data.median())"
   ]
  },
  {
   "cell_type": "code",
   "execution_count": 51,
   "metadata": {},
   "outputs": [],
   "source": [
    "# lable encoder for data_test\n",
    "\n",
    "le.fit(test_data['Weekday of Collision'])\n",
    "test_data['Weekday of Collision'] = le.transform(test_data['Weekday of Collision'])\n",
    "le.fit(test_data['Policing Area'].astype(str))\n",
    "test_data['Policing Area'] = le.transform(test_data['Policing Area'].astype(str))"
   ]
  },
  {
   "cell_type": "code",
   "execution_count": 52,
   "metadata": {},
   "outputs": [],
   "source": [
    "test_data = test_data.fillna(test_data.median())"
   ]
  },
  {
   "cell_type": "code",
   "execution_count": 53,
   "metadata": {},
   "outputs": [],
   "source": [
    "\n",
    "y = train_data[\"Collision Severity\"]\n",
    "x = train_data.drop([\"Collision Severity\", \"Collision Reference No.\"], axis=1)\n",
    "\n",
    "data_test_x = test_data.drop([\"Collision Reference No.\"], axis=1)"
   ]
  },
  {
   "cell_type": "code",
   "execution_count": 54,
   "metadata": {},
   "outputs": [
    {
     "data": {
      "text/plain": [
       "(1833, 15)"
      ]
     },
     "execution_count": 54,
     "metadata": {},
     "output_type": "execute_result"
    }
   ],
   "source": [
    "data_test_x.shape"
   ]
  },
  {
   "cell_type": "code",
   "execution_count": 55,
   "metadata": {},
   "outputs": [
    {
     "data": {
      "text/plain": [
       "(10397, 15)"
      ]
     },
     "execution_count": 55,
     "metadata": {},
     "output_type": "execute_result"
    }
   ],
   "source": [
    "x.shape"
   ]
  },
  {
   "cell_type": "code",
   "execution_count": 56,
   "metadata": {},
   "outputs": [
    {
     "data": {
      "text/html": [
       "<div>\n",
       "<style scoped>\n",
       "    .dataframe tbody tr th:only-of-type {\n",
       "        vertical-align: middle;\n",
       "    }\n",
       "\n",
       "    .dataframe tbody tr th {\n",
       "        vertical-align: top;\n",
       "    }\n",
       "\n",
       "    .dataframe thead th {\n",
       "        text-align: right;\n",
       "    }\n",
       "</style>\n",
       "<table border=\"1\" class=\"dataframe\">\n",
       "  <thead>\n",
       "    <tr style=\"text-align: right;\">\n",
       "      <th></th>\n",
       "      <th>Policing Area</th>\n",
       "      <th>Weekday of Collision</th>\n",
       "      <th>Day of Collision</th>\n",
       "      <th>Month of Collision</th>\n",
       "      <th>Hour of Collision (24 hour)</th>\n",
       "      <th>Carriageway Type</th>\n",
       "      <th>Speed Limit</th>\n",
       "      <th>Junction Detail</th>\n",
       "      <th>Junction Control</th>\n",
       "      <th>Pedestrian Crossing – Human Control</th>\n",
       "      <th>Pedestrian Crossing – Physical Control</th>\n",
       "      <th>Light Conditions</th>\n",
       "      <th>Weather Conditions</th>\n",
       "      <th>Road Surface Conditions</th>\n",
       "      <th>Special Conditions at Site</th>\n",
       "    </tr>\n",
       "  </thead>\n",
       "  <tbody>\n",
       "    <tr>\n",
       "      <th>0</th>\n",
       "      <td>11</td>\n",
       "      <td>1</td>\n",
       "      <td>4</td>\n",
       "      <td>8</td>\n",
       "      <td>14.0</td>\n",
       "      <td>13</td>\n",
       "      <td>60</td>\n",
       "      <td>1.0</td>\n",
       "      <td>1.0</td>\n",
       "      <td>1.0</td>\n",
       "      <td>1.0</td>\n",
       "      <td>2</td>\n",
       "      <td>9</td>\n",
       "      <td>9.0</td>\n",
       "      <td>1.0</td>\n",
       "    </tr>\n",
       "    <tr>\n",
       "      <th>1</th>\n",
       "      <td>38</td>\n",
       "      <td>2</td>\n",
       "      <td>8</td>\n",
       "      <td>8</td>\n",
       "      <td>17.0</td>\n",
       "      <td>11</td>\n",
       "      <td>50</td>\n",
       "      <td>12.0</td>\n",
       "      <td>7.0</td>\n",
       "      <td>1.0</td>\n",
       "      <td>1.0</td>\n",
       "      <td>4</td>\n",
       "      <td>3</td>\n",
       "      <td>1.0</td>\n",
       "      <td>1.0</td>\n",
       "    </tr>\n",
       "    <tr>\n",
       "      <th>2</th>\n",
       "      <td>21</td>\n",
       "      <td>6</td>\n",
       "      <td>5</td>\n",
       "      <td>11</td>\n",
       "      <td>17.0</td>\n",
       "      <td>1</td>\n",
       "      <td>60</td>\n",
       "      <td>12.0</td>\n",
       "      <td>7.0</td>\n",
       "      <td>1.0</td>\n",
       "      <td>1.0</td>\n",
       "      <td>2</td>\n",
       "      <td>2</td>\n",
       "      <td>2.0</td>\n",
       "      <td>1.0</td>\n",
       "    </tr>\n",
       "    <tr>\n",
       "      <th>3</th>\n",
       "      <td>38</td>\n",
       "      <td>3</td>\n",
       "      <td>18</td>\n",
       "      <td>10</td>\n",
       "      <td>16.0</td>\n",
       "      <td>12</td>\n",
       "      <td>70</td>\n",
       "      <td>6.0</td>\n",
       "      <td>4.0</td>\n",
       "      <td>1.0</td>\n",
       "      <td>1.0</td>\n",
       "      <td>1</td>\n",
       "      <td>3</td>\n",
       "      <td>1.0</td>\n",
       "      <td>1.0</td>\n",
       "    </tr>\n",
       "    <tr>\n",
       "      <th>4</th>\n",
       "      <td>26</td>\n",
       "      <td>1</td>\n",
       "      <td>23</td>\n",
       "      <td>11</td>\n",
       "      <td>9.0</td>\n",
       "      <td>13</td>\n",
       "      <td>60</td>\n",
       "      <td>6.0</td>\n",
       "      <td>7.0</td>\n",
       "      <td>1.0</td>\n",
       "      <td>1.0</td>\n",
       "      <td>2</td>\n",
       "      <td>3</td>\n",
       "      <td>1.0</td>\n",
       "      <td>1.0</td>\n",
       "    </tr>\n",
       "    <tr>\n",
       "      <th>5</th>\n",
       "      <td>18</td>\n",
       "      <td>1</td>\n",
       "      <td>3</td>\n",
       "      <td>2</td>\n",
       "      <td>12.0</td>\n",
       "      <td>13</td>\n",
       "      <td>60</td>\n",
       "      <td>1.0</td>\n",
       "      <td>1.0</td>\n",
       "      <td>1.0</td>\n",
       "      <td>1.0</td>\n",
       "      <td>2</td>\n",
       "      <td>2</td>\n",
       "      <td>2.0</td>\n",
       "      <td>1.0</td>\n",
       "    </tr>\n",
       "    <tr>\n",
       "      <th>6</th>\n",
       "      <td>0</td>\n",
       "      <td>1</td>\n",
       "      <td>26</td>\n",
       "      <td>1</td>\n",
       "      <td>16.0</td>\n",
       "      <td>13</td>\n",
       "      <td>40</td>\n",
       "      <td>6.0</td>\n",
       "      <td>7.0</td>\n",
       "      <td>1.0</td>\n",
       "      <td>1.0</td>\n",
       "      <td>1</td>\n",
       "      <td>1</td>\n",
       "      <td>2.0</td>\n",
       "      <td>5.0</td>\n",
       "    </tr>\n",
       "    <tr>\n",
       "      <th>7</th>\n",
       "      <td>12</td>\n",
       "      <td>2</td>\n",
       "      <td>24</td>\n",
       "      <td>10</td>\n",
       "      <td>11.0</td>\n",
       "      <td>13</td>\n",
       "      <td>60</td>\n",
       "      <td>10.0</td>\n",
       "      <td>7.0</td>\n",
       "      <td>1.0</td>\n",
       "      <td>1.0</td>\n",
       "      <td>1</td>\n",
       "      <td>10</td>\n",
       "      <td>2.0</td>\n",
       "      <td>1.0</td>\n",
       "    </tr>\n",
       "    <tr>\n",
       "      <th>8</th>\n",
       "      <td>12</td>\n",
       "      <td>5</td>\n",
       "      <td>10</td>\n",
       "      <td>2</td>\n",
       "      <td>15.0</td>\n",
       "      <td>1</td>\n",
       "      <td>30</td>\n",
       "      <td>6.0</td>\n",
       "      <td>1.0</td>\n",
       "      <td>1.0</td>\n",
       "      <td>1.0</td>\n",
       "      <td>1</td>\n",
       "      <td>3</td>\n",
       "      <td>1.0</td>\n",
       "      <td>1.0</td>\n",
       "    </tr>\n",
       "    <tr>\n",
       "      <th>9</th>\n",
       "      <td>28</td>\n",
       "      <td>0</td>\n",
       "      <td>5</td>\n",
       "      <td>12</td>\n",
       "      <td>8.0</td>\n",
       "      <td>13</td>\n",
       "      <td>30</td>\n",
       "      <td>1.0</td>\n",
       "      <td>1.0</td>\n",
       "      <td>1.0</td>\n",
       "      <td>2.0</td>\n",
       "      <td>7</td>\n",
       "      <td>10</td>\n",
       "      <td>1.0</td>\n",
       "      <td>1.0</td>\n",
       "    </tr>\n",
       "  </tbody>\n",
       "</table>\n",
       "</div>"
      ],
      "text/plain": [
       "   Policing Area  Weekday of Collision  Day of Collision  Month of Collision  \\\n",
       "0             11                     1                 4                   8   \n",
       "1             38                     2                 8                   8   \n",
       "2             21                     6                 5                  11   \n",
       "3             38                     3                18                  10   \n",
       "4             26                     1                23                  11   \n",
       "5             18                     1                 3                   2   \n",
       "6              0                     1                26                   1   \n",
       "7             12                     2                24                  10   \n",
       "8             12                     5                10                   2   \n",
       "9             28                     0                 5                  12   \n",
       "\n",
       "   Hour of Collision (24 hour)  Carriageway Type  Speed Limit  \\\n",
       "0                         14.0                13           60   \n",
       "1                         17.0                11           50   \n",
       "2                         17.0                 1           60   \n",
       "3                         16.0                12           70   \n",
       "4                          9.0                13           60   \n",
       "5                         12.0                13           60   \n",
       "6                         16.0                13           40   \n",
       "7                         11.0                13           60   \n",
       "8                         15.0                 1           30   \n",
       "9                          8.0                13           30   \n",
       "\n",
       "   Junction Detail  Junction Control  Pedestrian Crossing – Human Control  \\\n",
       "0              1.0               1.0                                  1.0   \n",
       "1             12.0               7.0                                  1.0   \n",
       "2             12.0               7.0                                  1.0   \n",
       "3              6.0               4.0                                  1.0   \n",
       "4              6.0               7.0                                  1.0   \n",
       "5              1.0               1.0                                  1.0   \n",
       "6              6.0               7.0                                  1.0   \n",
       "7             10.0               7.0                                  1.0   \n",
       "8              6.0               1.0                                  1.0   \n",
       "9              1.0               1.0                                  1.0   \n",
       "\n",
       "   Pedestrian Crossing – Physical Control  Light Conditions  \\\n",
       "0                                     1.0                 2   \n",
       "1                                     1.0                 4   \n",
       "2                                     1.0                 2   \n",
       "3                                     1.0                 1   \n",
       "4                                     1.0                 2   \n",
       "5                                     1.0                 2   \n",
       "6                                     1.0                 1   \n",
       "7                                     1.0                 1   \n",
       "8                                     1.0                 1   \n",
       "9                                     2.0                 7   \n",
       "\n",
       "   Weather Conditions  Road Surface Conditions  Special Conditions at Site  \n",
       "0                   9                      9.0                         1.0  \n",
       "1                   3                      1.0                         1.0  \n",
       "2                   2                      2.0                         1.0  \n",
       "3                   3                      1.0                         1.0  \n",
       "4                   3                      1.0                         1.0  \n",
       "5                   2                      2.0                         1.0  \n",
       "6                   1                      2.0                         5.0  \n",
       "7                  10                      2.0                         1.0  \n",
       "8                   3                      1.0                         1.0  \n",
       "9                  10                      1.0                         1.0  "
      ]
     },
     "execution_count": 56,
     "metadata": {},
     "output_type": "execute_result"
    }
   ],
   "source": [
    "x.head(10)"
   ]
  },
  {
   "cell_type": "code",
   "execution_count": 57,
   "metadata": {},
   "outputs": [],
   "source": [
    "import matplotlib.pyplot as plt"
   ]
  },
  {
   "cell_type": "code",
   "execution_count": 58,
   "metadata": {},
   "outputs": [
    {
     "data": {
      "image/png": "[encoded data removed]",
      "text/plain": [
       "<Figure size 432x288 with 1 Axes>"
      ]
     },
     "metadata": {
      "needs_background": "light"
     },
     "output_type": "display_data"
    }
   ],
   "source": [
    "train_data.hist(column=\"Weekday of Collision\")\n",
    "plt.show()"
   ]
  },
  {
   "cell_type": "code",
   "execution_count": 30,
   "metadata": {},
   "outputs": [
    {
     "data": {
      "image/png": "[encoded data removed]",
      "text/plain": [
       "<Figure size 2160x1440 with 20 Axes>"
      ]
     },
     "metadata": {
      "needs_background": "light"
     },
     "output_type": "display_data"
    }
   ],
   "source": [
    "train_data.hist(figsize=(30,20))\n",
    "plt.show()"
   ]
  },
  {
   "cell_type": "code",
   "execution_count": 60,
   "metadata": {},
   "outputs": [],
   "source": [
    "import seaborn as sns"
   ]
  },
  {
   "cell_type": "code",
   "execution_count": 61,
   "metadata": {},
   "outputs": [
    {
     "data": {
      "image/png": "[encoded data removed]",
      "text/plain": [
       "<Figure size 432x288 with 2 Axes>"
      ]
     },
     "metadata": {},
     "output_type": "display_data"
    }
   ],
   "source": [
    "sns.set(style=\"white\")\n",
    "sns.set(style=\"whitegrid\", color_codes=True)\n",
    "sns.heatmap(train_data.corr())\n",
    "plt.show()"
   ]
  },
  {
   "cell_type": "code",
   "execution_count": 62,
   "metadata": {},
   "outputs": [
    {
     "data": {
      "image/png": "[encoded data removed]",
      "text/plain": [
       "<Figure size 432x288 with 1 Axes>"
      ]
     },
     "metadata": {},
     "output_type": "display_data"
    }
   ],
   "source": [
    "train_data.hist(column=\"Collision Severity\")\n",
    "plt.show()"
   ]
  },
  {
   "cell_type": "code",
   "execution_count": 63,
   "metadata": {},
   "outputs": [
    {
     "data": {
      "image/png": "[encoded data removed]",
      "text/plain": [
       "<Figure size 432x288 with 1 Axes>"
      ]
     },
     "metadata": {},
     "output_type": "display_data"
    }
   ],
   "source": [
    "sns.countplot(x=\"Collision Severity\", data=train_data)\n",
    "plt.show()"
   ]
  },
  {
   "cell_type": "code",
   "execution_count": 65,
   "metadata": {},
   "outputs": [],
   "source": [
    "import itertools\n",
    "import numpy as np\n",
    "import matplotlib.pyplot as plt\n",
    "from matplotlib.ticker import NullFormatter\n",
    "import pandas as pd\n",
    "import numpy as np\n",
    "import matplotlib.ticker as ticker\n",
    "from sklearn import preprocessing\n",
    "%matplotlib inline"
   ]
  },
  {
   "cell_type": "code",
   "execution_count": 66,
   "metadata": {},
   "outputs": [],
   "source": [
    "import pandas as pd\n",
    "from sklearn import (svm, preprocessing)\n",
    "\n",
    "from sklearn.decomposition import PCA"
   ]
  },
  {
   "cell_type": "code",
   "execution_count": 70,
   "metadata": {},
   "outputs": [],
   "source": [
    "from sklearn.model_selection import train_test_split"
   ]
  },
  {
   "cell_type": "code",
   "execution_count": null,
   "metadata": {},
   "outputs": [],
   "source": []
  },
  {
   "cell_type": "code",
   "execution_count": 71,
   "metadata": {},
   "outputs": [],
   "source": [
    "\n",
    "\n",
    "# splitting \n",
    "data_variables = train_test_split(x, y, test_size = 0.25, random_state = 42)\n",
    "\n",
    "x_train, x_test, y_train, y_test = data_variables\n",
    "\n",
    "scaler = preprocessing.StandardScaler().fit(x_train)\n",
    "train_data_scaled = scaler.transform(x_train)\n",
    "test_data_scaled = scaler.transform(x_test)\n",
    "\n",
    "test_data_scaled_x = scaler.transform(data_test_x)\n",
    "\n"
   ]
  },
  {
   "cell_type": "code",
   "execution_count": null,
   "metadata": {},
   "outputs": [],
   "source": [
    "import sys"
   ]
  },
  {
   "cell_type": "code",
   "execution_count": null,
   "metadata": {},
   "outputs": [],
   "source": [
    "import sys"
   ]
  },
  {
   "cell_type": "code",
   "execution_count": 73,
   "metadata": {},
   "outputs": [
    {
     "name": "stdout",
     "output_type": "stream",
     "text": [
      "Collecting xgboost\n",
      "  Downloading xgboost-1.1.1-py3-none-win_amd64.whl (54.4 MB)\n",
      "Requirement already satisfied: numpy in c:\\users\\ravij25\\anaconda3\\lib\\site-packages (from xgboost) (1.18.5)\n",
      "Requirement already satisfied: scipy in c:\\users\\ravij25\\anaconda3\\lib\\site-packages (from xgboost) (1.5.0)\n",
      "Installing collected packages: xgboost\n",
      "Successfully installed xgboost-1.1.1\n"
     ]
    }
   ],
   "source": [
    "!pip3 install xgboost"
   ]
  },
  {
   "cell_type": "code",
   "execution_count": 74,
   "metadata": {},
   "outputs": [
    {
     "name": "stdout",
     "output_type": "stream",
     "text": [
      "Collecting package metadata (current_repodata.json): ...working... done\n",
      "Note: you may need to restart the kernel to use updated packages.\n",
      "Solving environment: ...working... failed with initial frozen solve. Retrying with flexible solve.\n",
      "Collecting package metadata (repodata.json): ...working... done\n",
      "Solving environment: ...working... failed with initial frozen solve. Retrying with flexible solve.\n",
      "\n"
     ]
    },
    {
     "name": "stderr",
     "output_type": "stream",
     "text": [
      "\n",
      "PackagesNotFoundError: The following packages are not available from current channels:\n",
      "\n",
      "  - xgboost\n",
      "\n",
      "Current channels:\n",
      "\n",
      "  - https://conda.anaconda.org/conda-forge/win-64\n",
      "  - https://conda.anaconda.org/conda-forge/noarch\n",
      "  - https://repo.anaconda.com/pkgs/main/win-64\n",
      "  - https://repo.anaconda.com/pkgs/main/noarch\n",
      "  - https://repo.anaconda.com/pkgs/r/win-64\n",
      "  - https://repo.anaconda.com/pkgs/r/noarch\n",
      "  - https://repo.anaconda.com/pkgs/msys2/win-64\n",
      "  - https://repo.anaconda.com/pkgs/msys2/noarch\n",
      "\n",
      "To search for alternate channels that may provide the conda package you're\n",
      "looking for, navigate to\n",
      "\n",
      "    https://anaconda.org\n",
      "\n",
      "and use the search bar at the top of the page.\n",
      "\n",
      "\n"
     ]
    }
   ],
   "source": [
    "conda install -c conda-forge xgboost"
   ]
  },
  {
   "cell_type": "code",
   "execution_count": 77,
   "metadata": {},
   "outputs": [
    {
     "ename": "SyntaxError",
     "evalue": "invalid syntax (<ipython-input-77-8cbb11ed032c>, line 1)",
     "output_type": "error",
     "traceback": [
      "\u001b[1;36m  File \u001b[1;32m\"<ipython-input-77-8cbb11ed032c>\"\u001b[1;36m, line \u001b[1;32m1\u001b[0m\n\u001b[1;33m    conda install -c conda-forge xgboost\u001b[0m\n\u001b[1;37m          ^\u001b[0m\n\u001b[1;31mSyntaxError\u001b[0m\u001b[1;31m:\u001b[0m invalid syntax\n"
     ]
    }
   ],
   "source": [
    "conda install -c conda-forge xgboost\n",
    "conda install -c conda-forge/label/gcc7 xgboost\n",
    "conda install -c conda-forge/label/cf201901 xgboost\n",
    "conda install -c conda-forge/label/cf202003 xgboost"
   ]
  },
  {
   "cell_type": "code",
   "execution_count": 83,
   "metadata": {},
   "outputs": [],
   "source": [
    "from sklearn.metrics import confusion_matrix"
   ]
  },
  {
   "cell_type": "code",
   "execution_count": 79,
   "metadata": {},
   "outputs": [],
   "source": [
    "from xgboost import XGBClassifier\n",
    "import xgboost as xgb"
   ]
  },
  {
   "cell_type": "code",
   "execution_count": 80,
   "metadata": {},
   "outputs": [
    {
     "name": "stdout",
     "output_type": "stream",
     "text": [
      "Collecting pandas_ml\n",
      "  Downloading pandas_ml-0.6.1-py3-none-any.whl (100 kB)\n",
      "Collecting enum34\n",
      "  Downloading enum34-1.1.10-py3-none-any.whl (11 kB)\n",
      "Requirement already satisfied: pandas>=0.19.0 in c:\\users\\ravij25\\anaconda3\\lib\\site-packages (from pandas_ml) (1.0.5)\n",
      "Note: you may need to restart the kernel to use updated packages.Requirement already satisfied: pytz>=2017.2 in c:\\users\\ravij25\\anaconda3\\lib\\site-packages (from pandas>=0.19.0->pandas_ml) (2020.1)\n",
      "Requirement already satisfied: python-dateutil>=2.6.1 in c:\\users\\ravij25\\anaconda3\\lib\\site-packages (from pandas>=0.19.0->pandas_ml) (2.8.1)\n",
      "Requirement already satisfied: numpy>=1.13.3 in c:\\users\\ravij25\\anaconda3\\lib\\site-packages (from pandas>=0.19.0->pandas_ml) (1.18.5)\n",
      "\n",
      "Requirement already satisfied: six>=1.5 in c:\\users\\ravij25\\anaconda3\\lib\\site-packages (from python-dateutil>=2.6.1->pandas>=0.19.0->pandas_ml) (1.15.0)\n",
      "Installing collected packages: enum34, pandas-ml\n",
      "Successfully installed enum34-1.1.10 pandas-ml-0.6.1\n"
     ]
    }
   ],
   "source": [
    "pip install pandas_ml"
   ]
  },
  {
   "cell_type": "code",
   "execution_count": 84,
   "metadata": {},
   "outputs": [
    {
     "ename": "ImportError",
     "evalue": "cannot import name 'jaccard_similarity_score' from 'sklearn.metrics' (C:\\Users\\ravij25\\anaconda3\\lib\\site-packages\\sklearn\\metrics\\__init__.py)",
     "output_type": "error",
     "traceback": [
      "\u001b[1;31m---------------------------------------------------------------------------\u001b[0m",
      "\u001b[1;31mImportError\u001b[0m                               Traceback (most recent call last)",
      "\u001b[1;32m<ipython-input-84-1add164f06c1>\u001b[0m in \u001b[0;36m<module>\u001b[1;34m\u001b[0m\n\u001b[1;32m----> 1\u001b[1;33m \u001b[1;32mfrom\u001b[0m \u001b[0msklearn\u001b[0m\u001b[1;33m.\u001b[0m\u001b[0mmetrics\u001b[0m \u001b[1;32mimport\u001b[0m \u001b[0mjaccard_similarity_score\u001b[0m\u001b[1;33m\u001b[0m\u001b[1;33m\u001b[0m\u001b[0m\n\u001b[0m",
      "\u001b[1;31mImportError\u001b[0m: cannot import name 'jaccard_similarity_score' from 'sklearn.metrics' (C:\\Users\\ravij25\\anaconda3\\lib\\site-packages\\sklearn\\metrics\\__init__.py)"
     ]
    }
   ],
   "source": [
    "from sklearn.metrics import jaccard_similarity_score"
   ]
  },
  {
   "cell_type": "code",
   "execution_count": null,
   "metadata": {},
   "outputs": [],
   "source": []
  },
  {
   "cell_type": "code",
   "execution_count": 81,
   "metadata": {},
   "outputs": [
    {
     "name": "stderr",
     "output_type": "stream",
     "text": [
      "C:\\Users\\ravij25\\anaconda3\\lib\\site-packages\\sklearn\\utils\\deprecation.py:143: FutureWarning: The sklearn.datasets.base module is  deprecated in version 0.22 and will be removed in version 0.24. The corresponding classes / functions should instead be imported from sklearn.datasets. Anything that cannot be imported from sklearn.datasets is now part of the private API.\n",
      "  warnings.warn(message, FutureWarning)\n"
     ]
    },
    {
     "ename": "AttributeError",
     "evalue": "module 'sklearn.metrics' has no attribute 'jaccard_similarity_score'",
     "output_type": "error",
     "traceback": [
      "\u001b[1;31m---------------------------------------------------------------------------\u001b[0m",
      "\u001b[1;31mAttributeError\u001b[0m                            Traceback (most recent call last)",
      "\u001b[1;32m<ipython-input-81-293d61c3ea02>\u001b[0m in \u001b[0;36m<module>\u001b[1;34m\u001b[0m\n\u001b[0;32m      1\u001b[0m \u001b[1;32mimport\u001b[0m \u001b[0mpandas\u001b[0m \u001b[1;32mas\u001b[0m \u001b[0mpd\u001b[0m\u001b[1;33m\u001b[0m\u001b[1;33m\u001b[0m\u001b[0m\n\u001b[1;32m----> 2\u001b[1;33m \u001b[1;32mfrom\u001b[0m \u001b[0mpandas_ml\u001b[0m \u001b[1;32mimport\u001b[0m \u001b[0mConfusionMatrix\u001b[0m\u001b[1;33m\u001b[0m\u001b[1;33m\u001b[0m\u001b[0m\n\u001b[0m",
      "\u001b[1;32m~\\anaconda3\\lib\\site-packages\\pandas_ml\\__init__.py\u001b[0m in \u001b[0;36m<module>\u001b[1;34m\u001b[0m\n\u001b[0;32m      1\u001b[0m \u001b[1;31m#!/usr/bin/env python\u001b[0m\u001b[1;33m\u001b[0m\u001b[1;33m\u001b[0m\u001b[1;33m\u001b[0m\u001b[0m\n\u001b[0;32m      2\u001b[0m \u001b[1;33m\u001b[0m\u001b[0m\n\u001b[1;32m----> 3\u001b[1;33m \u001b[1;32mfrom\u001b[0m \u001b[0mpandas_ml\u001b[0m\u001b[1;33m.\u001b[0m\u001b[0mcore\u001b[0m \u001b[1;32mimport\u001b[0m \u001b[0mModelFrame\u001b[0m\u001b[1;33m,\u001b[0m \u001b[0mModelSeries\u001b[0m       \u001b[1;31m# noqa\u001b[0m\u001b[1;33m\u001b[0m\u001b[1;33m\u001b[0m\u001b[0m\n\u001b[0m\u001b[0;32m      4\u001b[0m \u001b[1;32mfrom\u001b[0m \u001b[0mpandas_ml\u001b[0m\u001b[1;33m.\u001b[0m\u001b[0mtools\u001b[0m \u001b[1;32mimport\u001b[0m \u001b[0minfo\u001b[0m                         \u001b[1;31m# noqa\u001b[0m\u001b[1;33m\u001b[0m\u001b[1;33m\u001b[0m\u001b[0m\n\u001b[0;32m      5\u001b[0m \u001b[1;32mfrom\u001b[0m \u001b[0mpandas_ml\u001b[0m\u001b[1;33m.\u001b[0m\u001b[0mversion\u001b[0m \u001b[1;32mimport\u001b[0m \u001b[0mversion\u001b[0m \u001b[1;32mas\u001b[0m \u001b[0m__version__\u001b[0m     \u001b[1;31m# noqa\u001b[0m\u001b[1;33m\u001b[0m\u001b[1;33m\u001b[0m\u001b[0m\n",
      "\u001b[1;32m~\\anaconda3\\lib\\site-packages\\pandas_ml\\core\\__init__.py\u001b[0m in \u001b[0;36m<module>\u001b[1;34m\u001b[0m\n\u001b[0;32m      1\u001b[0m \u001b[1;31m#!/usr/bin/env python\u001b[0m\u001b[1;33m\u001b[0m\u001b[1;33m\u001b[0m\u001b[1;33m\u001b[0m\u001b[0m\n\u001b[0;32m      2\u001b[0m \u001b[1;33m\u001b[0m\u001b[0m\n\u001b[1;32m----> 3\u001b[1;33m \u001b[1;32mfrom\u001b[0m \u001b[0mpandas_ml\u001b[0m\u001b[1;33m.\u001b[0m\u001b[0mcore\u001b[0m\u001b[1;33m.\u001b[0m\u001b[0mframe\u001b[0m \u001b[1;32mimport\u001b[0m \u001b[0mModelFrame\u001b[0m       \u001b[1;31m# noqa\u001b[0m\u001b[1;33m\u001b[0m\u001b[1;33m\u001b[0m\u001b[0m\n\u001b[0m\u001b[0;32m      4\u001b[0m \u001b[1;32mfrom\u001b[0m \u001b[0mpandas_ml\u001b[0m\u001b[1;33m.\u001b[0m\u001b[0mcore\u001b[0m\u001b[1;33m.\u001b[0m\u001b[0mseries\u001b[0m \u001b[1;32mimport\u001b[0m \u001b[0mModelSeries\u001b[0m     \u001b[1;31m# noqa\u001b[0m\u001b[1;33m\u001b[0m\u001b[1;33m\u001b[0m\u001b[0m\n",
      "\u001b[1;32m~\\anaconda3\\lib\\site-packages\\pandas_ml\\core\\frame.py\u001b[0m in \u001b[0;36m<module>\u001b[1;34m\u001b[0m\n\u001b[0;32m      8\u001b[0m \u001b[1;33m\u001b[0m\u001b[0m\n\u001b[0;32m      9\u001b[0m \u001b[1;32mimport\u001b[0m \u001b[0mpandas_ml\u001b[0m\u001b[1;33m.\u001b[0m\u001b[0mimbaccessors\u001b[0m \u001b[1;32mas\u001b[0m \u001b[0mimbaccessors\u001b[0m\u001b[1;33m\u001b[0m\u001b[1;33m\u001b[0m\u001b[0m\n\u001b[1;32m---> 10\u001b[1;33m \u001b[1;32mimport\u001b[0m \u001b[0mpandas_ml\u001b[0m\u001b[1;33m.\u001b[0m\u001b[0mskaccessors\u001b[0m \u001b[1;32mas\u001b[0m \u001b[0mskaccessors\u001b[0m\u001b[1;33m\u001b[0m\u001b[1;33m\u001b[0m\u001b[0m\n\u001b[0m\u001b[0;32m     11\u001b[0m \u001b[1;32mimport\u001b[0m \u001b[0mpandas_ml\u001b[0m\u001b[1;33m.\u001b[0m\u001b[0msmaccessors\u001b[0m \u001b[1;32mas\u001b[0m \u001b[0msmaccessors\u001b[0m\u001b[1;33m\u001b[0m\u001b[1;33m\u001b[0m\u001b[0m\n\u001b[0;32m     12\u001b[0m \u001b[1;32mimport\u001b[0m \u001b[0mpandas_ml\u001b[0m\u001b[1;33m.\u001b[0m\u001b[0msnsaccessors\u001b[0m \u001b[1;32mas\u001b[0m \u001b[0msnsaccessors\u001b[0m\u001b[1;33m\u001b[0m\u001b[1;33m\u001b[0m\u001b[0m\n",
      "\u001b[1;32m~\\anaconda3\\lib\\site-packages\\pandas_ml\\skaccessors\\__init__.py\u001b[0m in \u001b[0;36m<module>\u001b[1;34m\u001b[0m\n\u001b[0;32m     13\u001b[0m \u001b[1;32mfrom\u001b[0m \u001b[0mpandas_ml\u001b[0m\u001b[1;33m.\u001b[0m\u001b[0mskaccessors\u001b[0m\u001b[1;33m.\u001b[0m\u001b[0mlinear_model\u001b[0m \u001b[1;32mimport\u001b[0m \u001b[0mLinearModelMethods\u001b[0m                 \u001b[1;31m# noqa\u001b[0m\u001b[1;33m\u001b[0m\u001b[1;33m\u001b[0m\u001b[0m\n\u001b[0;32m     14\u001b[0m \u001b[1;32mfrom\u001b[0m \u001b[0mpandas_ml\u001b[0m\u001b[1;33m.\u001b[0m\u001b[0mskaccessors\u001b[0m\u001b[1;33m.\u001b[0m\u001b[0mmanifold\u001b[0m \u001b[1;32mimport\u001b[0m \u001b[0mManifoldMethods\u001b[0m                        \u001b[1;31m# noqa\u001b[0m\u001b[1;33m\u001b[0m\u001b[1;33m\u001b[0m\u001b[0m\n\u001b[1;32m---> 15\u001b[1;33m \u001b[1;32mfrom\u001b[0m \u001b[0mpandas_ml\u001b[0m\u001b[1;33m.\u001b[0m\u001b[0mskaccessors\u001b[0m\u001b[1;33m.\u001b[0m\u001b[0mmetrics\u001b[0m \u001b[1;32mimport\u001b[0m \u001b[0mMetricsMethods\u001b[0m                          \u001b[1;31m# noqa\u001b[0m\u001b[1;33m\u001b[0m\u001b[1;33m\u001b[0m\u001b[0m\n\u001b[0m\u001b[0;32m     16\u001b[0m \u001b[1;32mfrom\u001b[0m \u001b[0mpandas_ml\u001b[0m\u001b[1;33m.\u001b[0m\u001b[0mskaccessors\u001b[0m\u001b[1;33m.\u001b[0m\u001b[0mmodel_selection\u001b[0m \u001b[1;32mimport\u001b[0m \u001b[0mModelSelectionMethods\u001b[0m           \u001b[1;31m# noqa\u001b[0m\u001b[1;33m\u001b[0m\u001b[1;33m\u001b[0m\u001b[0m\n\u001b[0;32m     17\u001b[0m \u001b[1;32mfrom\u001b[0m \u001b[0mpandas_ml\u001b[0m\u001b[1;33m.\u001b[0m\u001b[0mskaccessors\u001b[0m\u001b[1;33m.\u001b[0m\u001b[0mneighbors\u001b[0m \u001b[1;32mimport\u001b[0m \u001b[0mNeighborsMethods\u001b[0m                      \u001b[1;31m# noqa\u001b[0m\u001b[1;33m\u001b[0m\u001b[1;33m\u001b[0m\u001b[0m\n",
      "\u001b[1;32m~\\anaconda3\\lib\\site-packages\\pandas_ml\\skaccessors\\metrics.py\u001b[0m in \u001b[0;36m<module>\u001b[1;34m\u001b[0m\n\u001b[0;32m    254\u001b[0m _true_pred_methods = (_classification_methods + _regression_methods\n\u001b[0;32m    255\u001b[0m                       + _cluster_methods)\n\u001b[1;32m--> 256\u001b[1;33m \u001b[0m_attach_methods\u001b[0m\u001b[1;33m(\u001b[0m\u001b[0mMetricsMethods\u001b[0m\u001b[1;33m,\u001b[0m \u001b[0m_wrap_target_pred_func\u001b[0m\u001b[1;33m,\u001b[0m \u001b[0m_true_pred_methods\u001b[0m\u001b[1;33m)\u001b[0m\u001b[1;33m\u001b[0m\u001b[1;33m\u001b[0m\u001b[0m\n\u001b[0m\u001b[0;32m    257\u001b[0m \u001b[1;33m\u001b[0m\u001b[0m\n\u001b[0;32m    258\u001b[0m \u001b[1;33m\u001b[0m\u001b[0m\n",
      "\u001b[1;32m~\\anaconda3\\lib\\site-packages\\pandas_ml\\core\\accessor.py\u001b[0m in \u001b[0;36m_attach_methods\u001b[1;34m(cls, wrap_func, methods)\u001b[0m\n\u001b[0;32m     91\u001b[0m \u001b[1;33m\u001b[0m\u001b[0m\n\u001b[0;32m     92\u001b[0m         \u001b[1;32mfor\u001b[0m \u001b[0mmethod\u001b[0m \u001b[1;32min\u001b[0m \u001b[0mmethods\u001b[0m\u001b[1;33m:\u001b[0m\u001b[1;33m\u001b[0m\u001b[1;33m\u001b[0m\u001b[0m\n\u001b[1;32m---> 93\u001b[1;33m             \u001b[0m_f\u001b[0m \u001b[1;33m=\u001b[0m \u001b[0mgetattr\u001b[0m\u001b[1;33m(\u001b[0m\u001b[0mmodule\u001b[0m\u001b[1;33m,\u001b[0m \u001b[0mmethod\u001b[0m\u001b[1;33m)\u001b[0m\u001b[1;33m\u001b[0m\u001b[1;33m\u001b[0m\u001b[0m\n\u001b[0m\u001b[0;32m     94\u001b[0m             \u001b[1;32mif\u001b[0m \u001b[0mhasattr\u001b[0m\u001b[1;33m(\u001b[0m\u001b[0mcls\u001b[0m\u001b[1;33m,\u001b[0m \u001b[0mmethod\u001b[0m\u001b[1;33m)\u001b[0m\u001b[1;33m:\u001b[0m\u001b[1;33m\u001b[0m\u001b[1;33m\u001b[0m\u001b[0m\n\u001b[0;32m     95\u001b[0m                 \u001b[1;32mraise\u001b[0m \u001b[0mValueError\u001b[0m\u001b[1;33m(\u001b[0m\u001b[1;34m\"{0} already has '{1}' method\"\u001b[0m\u001b[1;33m.\u001b[0m\u001b[0mformat\u001b[0m\u001b[1;33m(\u001b[0m\u001b[0mcls\u001b[0m\u001b[1;33m,\u001b[0m \u001b[0mmethod\u001b[0m\u001b[1;33m)\u001b[0m\u001b[1;33m)\u001b[0m\u001b[1;33m\u001b[0m\u001b[1;33m\u001b[0m\u001b[0m\n",
      "\u001b[1;31mAttributeError\u001b[0m: module 'sklearn.metrics' has no attribute 'jaccard_similarity_score'"
     ]
    }
   ],
   "source": [
    "import pandas as pd\n",
    "from pandas_ml import ConfusionMatrix"
   ]
  },
  {
   "cell_type": "code",
   "execution_count": null,
   "metadata": {},
   "outputs": [],
   "source": []
  },
  {
   "cell_type": "code",
   "execution_count": 85,
   "metadata": {},
   "outputs": [
    {
     "ename": "NameError",
     "evalue": "name 'collections' is not defined",
     "output_type": "error",
     "traceback": [
      "\u001b[1;31m---------------------------------------------------------------------------\u001b[0m",
      "\u001b[1;31mNameError\u001b[0m                                 Traceback (most recent call last)",
      "\u001b[1;32m<ipython-input-85-0852ba6e8bee>\u001b[0m in \u001b[0;36m<module>\u001b[1;34m\u001b[0m\n\u001b[0;32m      9\u001b[0m \u001b[1;31m#print(type(predict_y))\u001b[0m\u001b[1;33m\u001b[0m\u001b[1;33m\u001b[0m\u001b[1;33m\u001b[0m\u001b[0m\n\u001b[0;32m     10\u001b[0m \u001b[0ma\u001b[0m \u001b[1;33m=\u001b[0m \u001b[0mnp\u001b[0m\u001b[1;33m.\u001b[0m\u001b[0marray\u001b[0m\u001b[1;33m(\u001b[0m\u001b[0mpredict_y\u001b[0m\u001b[1;33m)\u001b[0m\u001b[1;33m\u001b[0m\u001b[1;33m\u001b[0m\u001b[0m\n\u001b[1;32m---> 11\u001b[1;33m \u001b[0mprint\u001b[0m\u001b[1;33m(\u001b[0m\u001b[0mcollections\u001b[0m\u001b[1;33m.\u001b[0m\u001b[0mCounter\u001b[0m\u001b[1;33m(\u001b[0m\u001b[0ma\u001b[0m\u001b[1;33m)\u001b[0m\u001b[1;33m)\u001b[0m\u001b[1;33m\u001b[0m\u001b[1;33m\u001b[0m\u001b[0m\n\u001b[0m\u001b[0;32m     12\u001b[0m \u001b[1;33m\u001b[0m\u001b[0m\n\u001b[0;32m     13\u001b[0m \u001b[0maccuracy\u001b[0m \u001b[1;33m=\u001b[0m \u001b[0mclassifier\u001b[0m\u001b[1;33m.\u001b[0m\u001b[0mscore\u001b[0m\u001b[1;33m(\u001b[0m\u001b[0mtest_data_scaled\u001b[0m\u001b[1;33m,\u001b[0m \u001b[0my_test\u001b[0m\u001b[1;33m)\u001b[0m\u001b[1;33m\u001b[0m\u001b[1;33m\u001b[0m\u001b[0m\n",
      "\u001b[1;31mNameError\u001b[0m: name 'collections' is not defined"
     ]
    }
   ],
   "source": [
    "classifier = XGBClassifier()\n",
    "classifier.fit(train_data_scaled, y_train)\n",
    "\n",
    "\n",
    "\n",
    "# Predicting test data with train data using classifier\n",
    "predict_y = classifier.predict(test_data_scaled)\n",
    "\n",
    "#print(type(predict_y))\n",
    "a = np.array(predict_y)\n",
    "print(collections.Counter(a))\n",
    "\n",
    "accuracy = classifier.score(test_data_scaled, y_test)\n",
    "\n",
    "precision = precision_score(y_test, predict_y, average='micro')\n",
    "recall = recall_score(y_test, predict_y, average='micro')\n",
    "\n",
    "cmatrix = confusion_matrix(y_test, predict_y)\n",
    "#print(\"accuracy  : {}\".format(accuracy))\n",
    "print(\"accuracy[round]  : {}\".format(round(accuracy, 3)))\n",
    "print(\"precision : {}\".format(precision))\n",
    "print(\"recall    : {} \\n\".format(recall))\n",
    "print(\"Confusion matrix \\n{}\\n\\n\".format(cmatrix))"
   ]
  },
  {
   "cell_type": "code",
   "execution_count": null,
   "metadata": {},
   "outputs": [],
   "source": [
    "#with XGBooost algo\n",
    "\n",
    "xgboost = XGBClassifier()\n",
    "xgboost.fit(train_data_scaled, y_train)\n",
    "Y_pred = xgboost.predict(test_data_scaled)\n",
    "a = np.array(Y_pred)\n",
    "predict_xgboost = collections.Counter(a)\n",
    "acc_xgboost = round(xgboost.score(test_data_scaled, y_test) * 100, 2)\n",
    "#acc_xgboost\n",
    "print(\"Accuracy with XGBoost : {}\".format(acc_xgboost))"
   ]
  },
  {
   "cell_type": "code",
   "execution_count": null,
   "metadata": {},
   "outputs": [],
   "source": [
    "#with decision tree- gini index\n",
    "\n",
    "decision_tree = DecisionTreeClassifier(min_samples_leaf=1, max_depth=4, criterion= \"gini\")\n",
    "decision_tree.fit(train_data_scaled, y_train)\n",
    "Y_pred = decision_tree.predict(test_data_scaled)\n",
    "a = np.array(Y_pred)\n",
    "predict_decision_tree = collections.Counter(a)\n",
    "acc_decision_tree = round(decision_tree.score(test_data_scaled, y_test) * 100, 2)\n",
    "#acc_decision_tree\n",
    "print(\"Accuracy with Decision Tree_Gini : {}\".format(acc_decision_tree))"
   ]
  },
  {
   "cell_type": "code",
   "execution_count": null,
   "metadata": {},
   "outputs": [],
   "source": [
    "#with decisiono tree- entropy\n",
    "\n",
    "decision_tree = DecisionTreeClassifier(min_samples_leaf=1, max_depth=4, criterion= \"entropy\")\n",
    "decision_tree.fit(train_data_scaled, y_train)\n",
    "Y_pred = decision_tree.predict(test_data_scaled)\n",
    "a = np.array(Y_pred)\n",
    "predict_decision_tree = collections.Counter(a)\n",
    "acc_decision_tree = round(decision_tree.score(test_data_scaled, y_test) * 100, 2)\n",
    "#acc_decision_tree\n",
    "print(\"Accuracy with Decision Tree_entropy : {}\".format(acc_decision_tree))"
   ]
  },
  {
   "cell_type": "code",
   "execution_count": null,
   "metadata": {},
   "outputs": [],
   "source": [
    "#with random forest n=100\n",
    "\n",
    "random_forest = RandomForestClassifier(n_estimators=100)\n",
    "random_forest.fit(train_data_scaled, y_train)\n",
    "Y_pred = random_forest.predict(test_data_scaled)\n",
    "a = np.array(Y_pred)\n",
    "predict_random_forest = collections.Counter(a)\n",
    "acc_random_forest = round(random_forest.score(test_data_scaled, y_test) * 100, 2)\n",
    "#acc_random_forest\n",
    "print(\"Accuracy with Random Forest : {}\".format(acc_random_forest))"
   ]
  },
  {
   "cell_type": "code",
   "execution_count": null,
   "metadata": {},
   "outputs": [],
   "source": [
    "#with logistic reg\n",
    "\n",
    "logreg = LogisticRegression()\n",
    "logreg.fit(train_data_scaled, y_train)\n",
    "Y_pred = logreg.predict(test_data_scaled)\n",
    "a = np.array(Y_pred)\n",
    "predict_log = collections.Counter(a)\n",
    "acc_log = round(logreg.score(test_data_scaled, y_test) * 100, 2)\n",
    "#acc_log\n",
    "print(\"Accuracy with Logistic Regression : {}\".format(acc_log))"
   ]
  },
  {
   "cell_type": "code",
   "execution_count": null,
   "metadata": {},
   "outputs": [],
   "source": []
  },
  {
   "cell_type": "code",
   "execution_count": null,
   "metadata": {},
   "outputs": [],
   "source": [
    "# \n",
    "\n",
    "#to aggregate the data\n",
    "\n",
    "#it took bit long time to build\n",
    "\n",
    "\n",
    "collision_ref = pd.read_csv(r\"C:\\Users\\ravij25\\Desktop\\train_collision_ref_no.csv')\n",
    "ref_no = collision_ref['Collision Reference No.']\n",
    "base = pd.read_csv(r\"C:\\Users\\ravij25\\Desktop\\Base_Vehicle_Data.csv')\n",
    "vehicle_type = dict.fromkeys(['vehicle_type_%s'%i for i in pd.unique(base['Vehicle Type'])],['No'] * collision_ref.shape[0])\n",
    "collision_ref = pd.concat([collision_ref, pd.DataFrame(vehicle_type)], axis=1)\n",
    "\n",
    "for index, i in enumerate(ref_no):\n",
    "    tmp = base.loc[base['Collision Reference No.'] == i]\n",
    "    unique_type = ['vehicle_type_%s'%j for j in pd.unique(tmp['Vehicle Type'])]\n",
    "    print(index)\n",
    "    for k in unique_type:\n",
    "        collision_ref[k][index] = 'Yes'\n",
    "        \n",
    "temp = pd.DataFrame(collision_ref)\n",
    "temp.to_csv('collision_no.csv',index=False)"
   ]
  },
  {
   "cell_type": "code",
   "execution_count": null,
   "metadata": {},
   "outputs": [],
   "source": []
  },
  {
   "cell_type": "code",
   "execution_count": 77,
   "metadata": {},
   "outputs": [],
   "source": [
    "#data with vehicle type (yes-1/no-2) and collision ref no \n",
    "\n",
    "data_with_vehicle_type= pd.read_csv(r\"C:\\Users\\ravij25\\Desktop\\collision_no_to12.csv\")"
   ]
  },
  {
   "cell_type": "code",
   "execution_count": 78,
   "metadata": {},
   "outputs": [],
   "source": [
    "dwvt= data_with_vehicle_type"
   ]
  },
  {
   "cell_type": "code",
   "execution_count": 79,
   "metadata": {},
   "outputs": [
    {
     "data": {
      "image/png": "[encoded data removed]",
      "text/plain": [
       "<Figure size 432x288 with 1 Axes>"
      ]
     },
     "metadata": {
      "needs_background": "light"
     },
     "output_type": "display_data"
    }
   ],
   "source": [
    "dwvt.hist(column=\"Day of Collision\")\n",
    "plt.show()"
   ]
  },
  {
   "cell_type": "code",
   "execution_count": 82,
   "metadata": {},
   "outputs": [
    {
     "data": {
      "image/png": "[encoded data removed]",
      "text/plain": [
       "<Figure size 432x288 with 1 Axes>"
      ]
     },
     "metadata": {
      "needs_background": "light"
     },
     "output_type": "display_data"
    }
   ],
   "source": [
    "dwvt.hist(column=\"vehicle_type_8\")\n",
    "plt.show()"
   ]
  },
  {
   "cell_type": "code",
   "execution_count": 83,
   "metadata": {},
   "outputs": [
    {
     "data": {
      "image/png": "[encoded data removed]",
      "text/plain": [
       "<Figure size 432x288 with 1 Axes>"
      ]
     },
     "metadata": {
      "needs_background": "light"
     },
     "output_type": "display_data"
    }
   ],
   "source": [
    "dwvt.hist(column=\"Collision Reference 2.\")\n",
    "plt.show()"
   ]
  },
  {
   "cell_type": "code",
   "execution_count": 84,
   "metadata": {},
   "outputs": [],
   "source": [
    "#import seaborn as sns"
   ]
  },
  {
   "cell_type": "code",
   "execution_count": 86,
   "metadata": {},
   "outputs": [
    {
     "data": {
      "image/png": "[encoded data removed]",
      "text/plain": [
       "<Figure size 432x288 with 1 Axes>"
      ]
     },
     "metadata": {
      "needs_background": "light"
     },
     "output_type": "display_data"
    }
   ],
   "source": [
    "sns.countplot(x=\"vehicle_type_8\",data=dwvt)\n",
    "plt.show()"
   ]
  },
  {
   "cell_type": "code",
   "execution_count": 87,
   "metadata": {},
   "outputs": [
    {
     "data": {
      "text/plain": [
       "1    9332\n",
       "2     722\n",
       "Name: vehicle_type_8, dtype: int64"
      ]
     },
     "execution_count": 87,
     "metadata": {},
     "output_type": "execute_result"
    }
   ],
   "source": [
    "dwvt['vehicle_type_8'].value_counts()"
   ]
  },
  {
   "cell_type": "code",
   "execution_count": null,
   "metadata": {},
   "outputs": [],
   "source": []
  },
  {
   "cell_type": "code",
   "execution_count": null,
   "metadata": {},
   "outputs": [],
   "source": []
  }
 ],
 "metadata": {
  "kernelspec": {
   "display_name": "Python 3",
   "language": "python",
   "name": "python3"
  },
  "language_info": {
   "codemirror_mode": {
    "name": "ipython",
    "version": 3
   },
   "file_extension": ".py",
   "mimetype": "text/x-python",
   "name": "python",
   "nbconvert_exporter": "python",
   "pygments_lexer": "ipython3",
   "version": "3.8.3"
  }
 },
 "nbformat": 4,
 "nbformat_minor": 4
}
